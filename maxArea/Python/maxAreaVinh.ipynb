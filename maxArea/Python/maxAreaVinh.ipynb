{
 "cells": [
  {
   "attachments": {},
   "cell_type": "markdown",
   "metadata": {},
   "source": [
    "## Solution by Vinh\n",
    " Use 2 pointers and keep running total of the max area \n",
    "\n",
    "Running time: O(n)\n",
    "Space complexity O(1)\n",
    "\n",
    "## Comments: "
   ]
  },
  {
   "cell_type": "code",
   "execution_count": null,
   "metadata": {},
   "outputs": [],
   "source": [
    "def maxArea(height):\n",
    "    left = 0\n",
    "    right = len(height)-1\n",
    "    area = 0\n",
    "    distance = right - left\n",
    "    maxA = area\n",
    "\n",
    "    while left < right:\n",
    "\n",
    "        distance = right - left\n",
    "\n",
    "        minHeight = min((height[left], height[right]))\n",
    "\n",
    "        area = minHeight * distance\n",
    "\n",
    "        if area > maxA:\n",
    "            maxA = area\n",
    "\n",
    "        if height[left] < height[right]:\n",
    "            left += 1\n",
    "        else:\n",
    "            right -= 1\n",
    "\n",
    "    return maxA\n",
    "\n",
    "\n",
    "\n"
   ]
  },
  {
   "cell_type": "code",
   "execution_count": null,
   "metadata": {},
   "outputs": [],
   "source": [
    "height = [1, 8, 6, 2, 5, 4, 8, 3, 7]\n",
    "print(maxArea(height))"
   ]
  }
 ],
 "metadata": {
  "kernelspec": {
   "display_name": "Python 3",
   "language": "python",
   "name": "python3"
  },
  "language_info": {
   "name": "python",
   "version": "3.11.2"
  },
  "orig_nbformat": 4,
  "vscode": {
   "interpreter": {
    "hash": "313f8f71827d7b20db8eebbcdfbd10a8bc422b9985a8c0057a7d95e657852228"
   }
  }
 },
 "nbformat": 4,
 "nbformat_minor": 2
}
